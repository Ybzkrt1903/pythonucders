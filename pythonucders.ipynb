{
  "nbformat": 4,
  "nbformat_minor": 0,
  "metadata": {
    "colab": {
      "provenance": []
    },
    "kernelspec": {
      "name": "python3",
      "display_name": "Python 3"
    },
    "language_info": {
      "name": "python"
    }
  },
  "cells": [
    {
      "cell_type": "code",
      "execution_count": 1,
      "metadata": {
        "colab": {
          "base_uri": "https://localhost:8080/"
        },
        "id": "176NNhPK0R1a",
        "outputId": "f2a79b46-456c-4931-df48-ecaecc1b951a"
      },
      "outputs": [
        {
          "output_type": "stream",
          "name": "stdout",
          "text": [
            "Mounted at /content/drive\n"
          ]
        }
      ],
      "source": [
        "from google.colab import drive\n",
        "drive.mount('/content/drive')"
      ]
    },
    {
      "cell_type": "code",
      "source": [
        "import os\n",
        "os.chdir('/content/drive/MyDrive/VERIYAPILARI_ISTKA')"
      ],
      "metadata": {
        "id": "Go7ZxfHF0wu-"
      },
      "execution_count": 2,
      "outputs": []
    },
    {
      "cell_type": "code",
      "source": [
        "#if koşul yapısı\n",
        "\n",
        "x=5\n",
        "if x>4:\n",
        "  print(\"x, 5'ten büyüktür\")"
      ],
      "metadata": {
        "colab": {
          "base_uri": "https://localhost:8080/"
        },
        "id": "Esa2lBqjG6P5",
        "outputId": "06d65835-b0f0-40b6-f182-504f29494d9b"
      },
      "execution_count": 3,
      "outputs": [
        {
          "output_type": "stream",
          "name": "stdout",
          "text": [
            "x, 5'ten büyüktür\n"
          ]
        }
      ]
    },
    {
      "cell_type": "code",
      "source": [
        "#if-else koşul yapısı\n",
        "x=5\n",
        "if x<4:\n",
        "  print(\"x, 4'ten küçük\")\n",
        "else:\n",
        "  print(\"x, 5'e eşit\")"
      ],
      "metadata": {
        "colab": {
          "base_uri": "https://localhost:8080/"
        },
        "id": "EU4oBPQuHPiR",
        "outputId": "0a9275a9-fce5-4286-cf2b-6ba1022e2e63"
      },
      "execution_count": 5,
      "outputs": [
        {
          "output_type": "stream",
          "name": "stdout",
          "text": [
            "x, 5'e eşit\n"
          ]
        }
      ]
    },
    {
      "cell_type": "code",
      "source": [
        " #if-elif-else koşul yapısı\n",
        " x=10\n",
        " if x<5:\n",
        "   print(\"y, 5'ten küçük\")\n",
        " elif x==5:\n",
        "   print(\"y, 5'e eşit\")\n",
        " else:\n",
        "   print(\"y, 5'ten büyük\")"
      ],
      "metadata": {
        "colab": {
          "base_uri": "https://localhost:8080/"
        },
        "id": "TSbZ9OT2I1sw",
        "outputId": "c3f0a494-117b-451d-a757-5330b014c79a"
      },
      "execution_count": 8,
      "outputs": [
        {
          "output_type": "stream",
          "name": "stdout",
          "text": [
            "y, 5'ten büyük\n"
          ]
        }
      ]
    },
    {
      "cell_type": "code",
      "source": [
        "#iç içe koşul yapısı\n",
        "x=12\n",
        "y=5\n",
        "if x>10:\n",
        "  if y>5:\n",
        "    print(\"x, 10'dan büyük ve y, 5'ten büyük\")\n",
        "  else:\n",
        "    print(\"x, 10'dan büyük, y, 5'ten küçük veya eşit\")\n",
        "else:\n",
        "  print(\"x, 10'dan küçük veya eşittir\")"
      ],
      "metadata": {
        "colab": {
          "base_uri": "https://localhost:8080/"
        },
        "id": "9VRl5asOL6Kw",
        "outputId": "94df329a-3434-452c-a725-d9e1b2e77670"
      },
      "execution_count": 13,
      "outputs": [
        {
          "output_type": "stream",
          "name": "stdout",
          "text": [
            "x, 10'dan büyük, y, 5'ten küçük veya eşit\n"
          ]
        }
      ]
    },
    {
      "cell_type": "code",
      "source": [
        "a=7\n",
        "b=5\n",
        "# 'and' operatörü ile\n",
        "if a>5 and b>2:\n",
        "  print(\"a, 5'ten büyük ve b, 5e eşit veya küçük\")\n",
        "\n",
        "# 'or' operatörü ile\n",
        "if a<7 or b>4:\n",
        "  print(\"a, 7'den küçük veya b, 4'ten büyük\")\n",
        "\n",
        "# 'not' operatörü ile\n",
        "if not a<10:\n",
        "  print(\"a, 7'den küçük\")\n",
        "\n"
      ],
      "metadata": {
        "colab": {
          "base_uri": "https://localhost:8080/"
        },
        "id": "RUBs_gMGOhO_",
        "outputId": "794392b5-6305-48df-ef7c-1dd16bbc3353"
      },
      "execution_count": 27,
      "outputs": [
        {
          "output_type": "stream",
          "name": "stdout",
          "text": [
            "a, 5'ten büyük ve b, 5e eşit veya küçük\n",
            "a, 7'den küçük veya b, 4'ten büyük\n"
          ]
        }
      ]
    },
    {
      "cell_type": "code",
      "source": [
        "#Not Sistemi\n",
        "\n",
        "notu=85\n",
        "if notu>=90:\n",
        "  print(\"Harf Notu: A\")\n",
        "elif notu>=80:\n",
        "  print(\"Harf Notu: B\")\n",
        "elif notu>=70:\n",
        "  print(\"Harf Notu: C\")\n",
        "elif notu>=60:\n",
        "  print(\"Harf Notu: D\")\n",
        "elif notu>=50:\n",
        "  print(\"Harf Notu: E\")"
      ],
      "metadata": {
        "colab": {
          "base_uri": "https://localhost:8080/"
        },
        "id": "a0z4Lj1wReom",
        "outputId": "42ca87af-623c-4f29-d7ef-b282524c7030"
      },
      "execution_count": 33,
      "outputs": [
        {
          "output_type": "stream",
          "name": "stdout",
          "text": [
            "Harf Notu: B\n"
          ]
        }
      ]
    },
    {
      "cell_type": "code",
      "source": [
        "#Yaş Reşit Olma Durumu\n",
        "yas=20\n",
        "if yas<18:\n",
        "  print(\"Reşit değilsiniz\")\n",
        "elif yas>=18:\n",
        "  print(\"Reşitsiniz ama içecek satın alamazsınız\")\n",
        "else:\n",
        "  print(\"İçecek satın alabilirsiniz\")"
      ],
      "metadata": {
        "id": "qyR3lNZ8SUiE"
      },
      "execution_count": null,
      "outputs": []
    },
    {
      "cell_type": "code",
      "source": [
        "#Sayı Pozitif, Negatif ve Eşit Olma Durumu\n",
        "sayi=int(input(\"Bir Sayı Giriniz\"))\n",
        "if sayi>0:\n",
        "  print(\"Sayı pozitiftir\")\n",
        "elif sayi<0:\n",
        "  print(\"Sayı negatiftir\")\n",
        "else:\n",
        "  print(\"Sayı sıfırdır\")"
      ],
      "metadata": {
        "colab": {
          "base_uri": "https://localhost:8080/"
        },
        "id": "cXjxl7iSUk-3",
        "outputId": "ec4792f7-b2e7-4caa-feec-81b627a49308"
      },
      "execution_count": 36,
      "outputs": [
        {
          "output_type": "stream",
          "name": "stdout",
          "text": [
            "Bir Sayı Giriniz5\n",
            "Sayı pozitiftir\n"
          ]
        }
      ]
    },
    {
      "cell_type": "code",
      "source": [],
      "metadata": {
        "id": "7QVa8dteUp0N"
      },
      "execution_count": null,
      "outputs": []
    }
  ]
}